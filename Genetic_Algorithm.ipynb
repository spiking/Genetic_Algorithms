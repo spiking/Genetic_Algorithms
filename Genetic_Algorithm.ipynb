{
 "cells": [
  {
   "cell_type": "code",
   "execution_count": 126,
   "metadata": {},
   "outputs": [],
   "source": [
    "import numpy as np\n",
    "import pandas as pd\n",
    "import scipy as spy\n",
    "import matplotlib.pyplot as plt\n",
    "import time\n",
    "import random"
   ]
  },
  {
   "cell_type": "markdown",
   "metadata": {},
   "source": [
    "## Fitness function"
   ]
  },
  {
   "cell_type": "raw",
   "metadata": {},
   "source": [
    "score = nbr of char correct / total nbr of chars"
   ]
  },
  {
   "cell_type": "code",
   "execution_count": 125,
   "metadata": {},
   "outputs": [],
   "source": [
    "def fitness (password, test_word):\n",
    "    \n",
    "    if (len(test_word) != len(password)):\n",
    "        print(\"taille incompatible\")\n",
    "    else:\n",
    "        score = 0\n",
    "        i = 0\n",
    "        while i < len(password):\n",
    "            if password[i] == test_word[i]:\n",
    "                score += 1\n",
    "            i += 1\n",
    "        return score * 100 / len(password)"
   ]
  },
  {
   "cell_type": "markdown",
   "metadata": {},
   "source": [
    "## Generate words and population of words"
   ]
  },
  {
   "cell_type": "markdown",
   "metadata": {},
   "source": [
    "### Words are individuals and letters are genes"
   ]
  },
  {
   "cell_type": "code",
   "execution_count": 133,
   "metadata": {},
   "outputs": [],
   "source": [
    "def generateAWord(length):\n",
    "    i = 0\n",
    "    result = \"\"\n",
    "    while i < length:\n",
    "        letter = chr(97 + int(26 * random.random())) # a-z randomly distributed\n",
    "        result += letter\n",
    "        i +=1\n",
    "    return result\n",
    "\n",
    "def generateFirstPopulation(sizePopulation, password):\n",
    "    population = []\n",
    "    i = 0\n",
    "    while i < sizePopulation:\n",
    "        population.append(generateAWord(len(password)))\n",
    "        i+=1\n",
    "    return population"
   ]
  },
  {
   "cell_type": "markdown",
   "metadata": {},
   "source": [
    "## Select the most fit"
   ]
  },
  {
   "cell_type": "raw",
   "metadata": {},
   "source": [
    "1) Pick the most fit individuals\n",
    "2) Generate children from these\n",
    "\n",
    "OBS! Do not only pick the most fit early on, might converge badly too soon. Solution: add randomness."
   ]
  },
  {
   "cell_type": "code",
   "execution_count": 138,
   "metadata": {},
   "outputs": [],
   "source": [
    "import operator\n",
    "import random\n",
    "\n",
    "def computePerfPopulation(population, password):\n",
    "    populationPerf = {}\n",
    "    for individual in population:\n",
    "        populationPerf[individual] = fitness(password, individual)\n",
    "    return sorted(populationPerf.items(), key = operator.itemgetter(1), reverse=True)\n",
    "\n",
    "def selectFromPopulation(populationSorted, best_sample, lucky_few):\n",
    "    nextGeneration = []\n",
    "    for i in range(best_sample):\n",
    "        nextGeneration.append(populationSorted[i][0])\n",
    "    for i in range(lucky_few):\n",
    "        nextGeneration.append(random.choice(populationSorted)[0])\n",
    "    random.shuffle(nextGeneration)\n",
    "    return nextGeneration"
   ]
  },
  {
   "cell_type": "markdown",
   "metadata": {},
   "source": [
    "## Breeding - Generate children"
   ]
  },
  {
   "cell_type": "raw",
   "metadata": {},
   "source": [
    "Since the words are individuals and letters genes, let's randomly mix letter to generate new children"
   ]
  },
  {
   "cell_type": "code",
   "execution_count": 139,
   "metadata": {},
   "outputs": [],
   "source": [
    "import random\n",
    "\n",
    "def createChild(individual1, individual2):\n",
    "    child = \"\"\n",
    "    for i in range(len(individual1)):\n",
    "        if (int(100 * random.random()) < 50):\n",
    "            child += individual1[i]\n",
    "        else:\n",
    "            child += individual2[i]\n",
    "    return child\n",
    "\n",
    "def createChildren(breeders, number_of_child):\n",
    "    nextPopulation = []\n",
    "    for i in range(len(breeders)//2):\n",
    "        for j in range(number_of_child):\n",
    "            nextPopulation.append(createChild(breeders[i], breeders[len(breeders) -1 -i]))\n",
    "    return nextPopulation"
   ]
  },
  {
   "cell_type": "markdown",
   "metadata": {},
   "source": [
    "## Mutation"
   ]
  },
  {
   "cell_type": "raw",
   "metadata": {},
   "source": [
    "Each child has a probability of being mutated, one letter randomly replaced"
   ]
  },
  {
   "cell_type": "code",
   "execution_count": 147,
   "metadata": {},
   "outputs": [],
   "source": [
    "def mutateWord(word):\n",
    "    index_modification = int(random.random() * len(word))\n",
    "    if (index_modification == 0):\n",
    "        word = chr(97 + int(26 * random.random())) + word[1:]\n",
    "    else:\n",
    "        word = word[:index_modification] + chr(97 + int(26 * random.random())) + word[index_modification+1:]\n",
    "    return word\n",
    "\n",
    "def mutatePopulation(population, chance_of_mutation):\n",
    "    for i in range(len(population)):\n",
    "        if random.random() * 100 < chance_of_mutation:\n",
    "            population[i] = mutateWord(population[i])\n",
    "    return population"
   ]
  },
  {
   "cell_type": "markdown",
   "metadata": {},
   "source": [
    "## Create the next generation from the precious"
   ]
  },
  {
   "cell_type": "code",
   "execution_count": 99,
   "metadata": {},
   "outputs": [],
   "source": [
    "def nextGeneration (firstGeneration, password, best_sample, lucky_few, number_of_child, chance_of_mutation):\n",
    "    populationSorted = computePerfPopulation(firstGeneration, password)\n",
    "    nextBreeders = selectFromPopulation(populationSorted, best_sample, lucky_few)\n",
    "    nextPopulation = createChildren(nextBreeders, number_of_child)\n",
    "    nextGeneration = mutatePopulation(nextPopulation, chance_of_mutation)\n",
    "    return nextGeneration"
   ]
  },
  {
   "cell_type": "code",
   "execution_count": 100,
   "metadata": {},
   "outputs": [],
   "source": [
    "def multipleGeneration(number_of_generation, password, size_population, best_sample, lucky_few, number_of_child, chance_of_mutation):\n",
    "    historic = []\n",
    "    historic.append(generateFirstPopulation(size_population, password))\n",
    "    for i in range (number_of_generation):\n",
    "        historic.append(nextGeneration(historic[i], password, best_sample, lucky_few, number_of_child, chance_of_mutation))\n",
    "    return historic"
   ]
  },
  {
   "cell_type": "markdown",
   "metadata": {},
   "source": [
    "## Printing and Plotting"
   ]
  },
  {
   "cell_type": "code",
   "execution_count": 101,
   "metadata": {},
   "outputs": [],
   "source": [
    "def printSimpleResult(historic, password, number_of_generation): #bestSolution in historic. Caution not the last\n",
    "    result = getListBestIndividualFromHistorique(historic, password)[number_of_generation-1]\n",
    "    print (\"solution: \\\"\" + result[0] + \"\\\" de fitness: \" + str(result[1]))\n"
   ]
  },
  {
   "cell_type": "code",
   "execution_count": 148,
   "metadata": {},
   "outputs": [],
   "source": [
    "def getBestIndividualFromPopulation (population, password):\n",
    "    return computePerfPopulation(population, password)[0]"
   ]
  },
  {
   "cell_type": "code",
   "execution_count": 149,
   "metadata": {},
   "outputs": [],
   "source": [
    "def getListBestIndividualFromHistorique (historic, password):\n",
    "    bestIndividuals = []\n",
    "    for population in historic:\n",
    "        bestIndividuals.append(getBestIndividualFromPopulation(population, password))\n",
    "    return bestIndividuals"
   ]
  },
  {
   "cell_type": "code",
   "execution_count": 104,
   "metadata": {},
   "outputs": [],
   "source": [
    "def evolutionBestFitness(historic, password):\n",
    "    plt.axis([0,len(historic),0,105])\n",
    "    plt.title(password)\n",
    "\n",
    "evolutionFitness = []\n",
    "    for population in historic:\n",
    "        evolutionFitness.append(getBestIndividualFromPopulation(population, password)[1])\n",
    "    plt.plot(evolutionFitness)\n",
    "    plt.ylabel('fitness best individual')\n",
    "    plt.xlabel('generation')\n",
    "    plt.show()"
   ]
  },
  {
   "cell_type": "code",
   "execution_count": 150,
   "metadata": {},
   "outputs": [],
   "source": [
    "def evolutionAverageFitness(historic, password, size_population):\n",
    "    plt.axis([0,len(historic),0,105])\n",
    "    plt.title(password)\n",
    "    \n",
    "    evolutionFitness = []\n",
    "    for population in historic:\n",
    "        populationPerf = computePerfPopulation(population, password)\n",
    "        averageFitness = 0\n",
    "        for individual in populationPerf:\n",
    "            averageFitness += individual[1]\n",
    "        evolutionFitness.append(averageFitness/size_population)\n",
    "    plt.plot(evolutionFitness)\n",
    "    plt.ylabel('Average fitness')\n",
    "    plt.xlabel('generation')"
   ]
  },
  {
   "cell_type": "code",
   "execution_count": 166,
   "metadata": {},
   "outputs": [
    {
     "name": "stdout",
     "output_type": "stream",
     "text": [
      "solution: \"ldamthunesen\" de fitness: 83.33333333333333\n"
     ]
    },
    {
     "data": {
      "image/png": "[encoded data removed]",
      "text/plain": [
       "<Figure size 432x288 with 1 Axes>"
      ]
     },
     "metadata": {
      "needs_background": "light"
     },
     "output_type": "display_data"
    },
    {
     "name": "stdout",
     "output_type": "stream",
     "text": [
      "0.1789412498474121\n"
     ]
    },
    {
     "data": {
      "image/png": "[encoded data removed]",
      "text/plain": [
       "<Figure size 432x288 with 1 Axes>"
      ]
     },
     "metadata": {
      "needs_background": "light"
     },
     "output_type": "display_data"
    }
   ],
   "source": [
    "#variables\n",
    "password = \"adamthuvesen\"\n",
    "size_population = 100\n",
    "best_sample = 10\n",
    "lucky_few = 10\n",
    "number_of_child = 10\n",
    "number_of_generation = 50\n",
    "chance_of_mutation = 5\n",
    "\n",
    "temps1 = time.time()\n",
    "\n",
    "if ((best_sample + lucky_few) / 2 * number_of_child != size_population):\n",
    "    print (\"population size not stable\")\n",
    "else:\n",
    "    historic = multipleGeneration(number_of_generation, password, size_population, best_sample, lucky_few, number_of_child, chance_of_mutation)\n",
    "    \n",
    "    printSimpleResult(historic, password, number_of_generation)\n",
    "    \n",
    "    evolutionBestFitness(historic, password)\n",
    "    evolutionAverageFitness(historic, password, size_population)\n",
    "\n",
    "print (time.time() - temps1)"
   ]
  },
  {
   "cell_type": "markdown",
   "metadata": {},
   "source": [
    "## New generation -> Evaluation of each individual -> Selection -> Reproduction -> Mutation"
   ]
  }
 ],
 "metadata": {
  "kernelspec": {
   "display_name": "Python 3",
   "language": "python",
   "name": "python3"
  },
  "language_info": {
   "codemirror_mode": {
    "name": "ipython",
    "version": 3
   },
   "file_extension": ".py",
   "mimetype": "text/x-python",
   "name": "python",
   "nbconvert_exporter": "python",
   "pygments_lexer": "ipython3",
   "version": "3.6.7"
  }
 },
 "nbformat": 4,
 "nbformat_minor": 2
}
